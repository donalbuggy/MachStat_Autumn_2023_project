{
 "cells": [
  {
   "cell_type": "markdown",
   "id": "81b21411",
   "metadata": {},
   "source": [
    "## Paired samples t-test using SciPy stats"
   ]
  },
  {
   "cell_type": "code",
   "execution_count": 36,
   "id": "93e87833",
   "metadata": {},
   "outputs": [],
   "source": [
    "import numpy as np\n",
    "import pandas as pd\n",
    "import scipy.stats as ss\n",
    "import matplotlib.pyplot as plt\n",
    "import seaborn as sns"
   ]
  },
  {
   "cell_type": "markdown",
   "id": "7e53b8f9",
   "metadata": {},
   "source": [
    "The paired sample t-test is used to compare measures from a single data source at two points in time, often to test whether an operation on the data source has had a significant effect on the outputs. For example, testing a weight-loss intervention on patients, recording performance on a physical task both before and after the intervention. The test checks if there is a statistically significant difference between the means of the two sets of results.\n",
    "\n",
    "The paired t-test has four assumptions:\n",
    "* that the data is numerical or continuous\n",
    "* that the subjects from which measurements are taken are independent and do not affect each other's measurements\n",
    "* that the differences between the pairs are normally distributed\n",
    "* that there are no extreme values in the distribution of pair differences\n",
    "\n",
    "For this exercise, I will be using data from the US Traffic Fatalities dataset which can be found [here](https://vincentarelbundock.github.io/Rdatasets/csv/AER/Fatalities.csv), comparing fatality data from 48 US states for years 1987 and 1988. The fatality rates are dependent as the data is drawn from the same populations in two time periods. The data is numerical and the subjects (states) are independent of each other, so the dataset satisfies the first two assumptions.\n",
    "\n",
    "I will first test assumption #3 by looking at the distribution of differences between the two years."
   ]
  },
  {
   "cell_type": "code",
   "execution_count": 4,
   "id": "e96511e3",
   "metadata": {
    "scrolled": true
   },
   "outputs": [
    {
     "data": {
      "text/html": [
       "<div>\n",
       "<style scoped>\n",
       "    .dataframe tbody tr th:only-of-type {\n",
       "        vertical-align: middle;\n",
       "    }\n",
       "\n",
       "    .dataframe tbody tr th {\n",
       "        vertical-align: top;\n",
       "    }\n",
       "\n",
       "    .dataframe thead th {\n",
       "        text-align: right;\n",
       "    }\n",
       "</style>\n",
       "<table border=\"1\" class=\"dataframe\">\n",
       "  <thead>\n",
       "    <tr style=\"text-align: right;\">\n",
       "      <th></th>\n",
       "      <th>State</th>\n",
       "      <th>1987</th>\n",
       "      <th>1988</th>\n",
       "      <th>Difference</th>\n",
       "    </tr>\n",
       "  </thead>\n",
       "  <tbody>\n",
       "    <tr>\n",
       "      <th>0</th>\n",
       "      <td>Alabama</td>\n",
       "      <td>1110</td>\n",
       "      <td>1023</td>\n",
       "      <td>87</td>\n",
       "    </tr>\n",
       "    <tr>\n",
       "      <th>1</th>\n",
       "      <td>Arizona</td>\n",
       "      <td>937</td>\n",
       "      <td>944</td>\n",
       "      <td>-7</td>\n",
       "    </tr>\n",
       "    <tr>\n",
       "      <th>2</th>\n",
       "      <td>Arkansas</td>\n",
       "      <td>639</td>\n",
       "      <td>610</td>\n",
       "      <td>29</td>\n",
       "    </tr>\n",
       "    <tr>\n",
       "      <th>3</th>\n",
       "      <td>California</td>\n",
       "      <td>5504</td>\n",
       "      <td>5390</td>\n",
       "      <td>114</td>\n",
       "    </tr>\n",
       "    <tr>\n",
       "      <th>4</th>\n",
       "      <td>Colorado</td>\n",
       "      <td>591</td>\n",
       "      <td>497</td>\n",
       "      <td>94</td>\n",
       "    </tr>\n",
       "  </tbody>\n",
       "</table>\n",
       "</div>"
      ],
      "text/plain": [
       "        State  1987  1988  Difference\n",
       "0     Alabama  1110  1023          87\n",
       "1     Arizona   937   944          -7\n",
       "2    Arkansas   639   610          29\n",
       "3  California  5504  5390         114\n",
       "4    Colorado   591   497          94"
      ]
     },
     "execution_count": 4,
     "metadata": {},
     "output_type": "execute_result"
    }
   ],
   "source": [
    "df = pd.read_csv('us-road-fatalities.csv')\n",
    "\n",
    "df.head()"
   ]
  },
  {
   "cell_type": "code",
   "execution_count": 24,
   "id": "a69098b8",
   "metadata": {},
   "outputs": [
    {
     "data": {
      "text/plain": [
       "Text(0, 0.5, 'Frequency')"
      ]
     },
     "execution_count": 24,
     "metadata": {},
     "output_type": "execute_result"
    },
    {
     "data": {
      "image/png": "[encoded data removed]",
      "text/plain": [
       "<Figure size 504x360 with 1 Axes>"
      ]
     },
     "metadata": {
      "needs_background": "light"
     },
     "output_type": "display_data"
    }
   ],
   "source": [
    "differences = df['Difference']\n",
    "fig = plt.figure(figsize=(7,5))\n",
    "plt.hist(differences, bins=10)\n",
    "plt.axvline(x=np.mean(differences), c='r')\n",
    "plt.text(np.mean(differences),9, round(np.mean(differences),3),c='r')\n",
    "plt.title('Road fatalities difference distribution')\n",
    "plt.xlabel('Differences')\n",
    "plt.ylabel('Frequency')"
   ]
  },
  {
   "cell_type": "markdown",
   "id": "664676b9",
   "metadata": {},
   "source": [
    "We can see that the distribution is generally normal, with most states showing a slight decrease in fatalities. However, the two lowest statistics (Florida and Illinois) appear as outliers. When these are removed, the normal distribution is clearer, thus satisfying the third and fourth assumptions:"
   ]
  },
  {
   "cell_type": "code",
   "execution_count": 23,
   "id": "b8367e13",
   "metadata": {},
   "outputs": [
    {
     "data": {
      "text/plain": [
       "Text(0, 0.5, 'Frequency')"
      ]
     },
     "execution_count": 23,
     "metadata": {},
     "output_type": "execute_result"
    },
    {
     "data": {
      "image/png": "[encoded data removed]",
      "text/plain": [
       "<Figure size 504x360 with 1 Axes>"
      ]
     },
     "metadata": {
      "needs_background": "light"
     },
     "output_type": "display_data"
    }
   ],
   "source": [
    "df2 = pd.read_csv('us-road-fatalities2.csv')\n",
    "\n",
    "differences2 = df2['Difference']\n",
    "fig = plt.figure(figsize=(7,5))\n",
    "plt.hist(differences2, bins=10)\n",
    "plt.axvline(x=np.mean(differences2), c='r')\n",
    "plt.text(np.mean(differences2),9, round(np.mean(differences2),3),c='r')\n",
    "plt.title('Road fatalities difference distribution')\n",
    "plt.xlabel('Differences')\n",
    "plt.ylabel('Frequency')"
   ]
  },
  {
   "cell_type": "markdown",
   "id": "7f593b2d",
   "metadata": {},
   "source": [
    "The graph returns a difference of means value of -5.52, indicating that each state on average saw a decrease of 5.52 road fatalities in 1988 compared to the previous year. As we can see from the visualisation below, there is significant overlap in the distributions of fatalities for each year."
   ]
  },
  {
   "cell_type": "code",
   "execution_count": 66,
   "id": "f5e5a7df",
   "metadata": {},
   "outputs": [
    {
     "data": {
      "image/png": "[encoded data removed]",
      "text/plain": [
       "<Figure size 432x288 with 1 Axes>"
      ]
     },
     "metadata": {
      "needs_background": "light"
     },
     "output_type": "display_data"
    }
   ],
   "source": [
    "x = df2['1987']\n",
    "y = df2['1988']\n",
    "\n",
    "plt.hist([x,y], alpha=0.5, label=['1987','1988'])\n",
    "plt.legend(loc='upper right')\n",
    "plt.show()"
   ]
  },
  {
   "cell_type": "markdown",
   "id": "e27cf0bc",
   "metadata": {},
   "source": [
    "Finally I will perform the paired samples t-test using SciPy.stats' ttest_rel() function, which takes the data for each year as arguments and returns the t-value and p-value. The **null hypothesis** for the test will be that there is no statistically significant difference between the means of the two years at the 95% confidence level, while the **alternative hypothesis** will be that there is a statistically significant difference. The result will be determined by the p-value."
   ]
  },
  {
   "cell_type": "code",
   "execution_count": 30,
   "id": "5f99ce53",
   "metadata": {},
   "outputs": [
    {
     "name": "stdout",
     "output_type": "stream",
     "text": [
      "t-value:\t-0.7131880837548321\n",
      "p-value:\t0.47941175306041695\n"
     ]
    }
   ],
   "source": [
    "year1 = df2['1987']\n",
    "year2 = df2['1988']\n",
    "\n",
    "result = ss.ttest_rel(year1, year2)\n",
    "\n",
    "print(\"t-value:\\t\" + str(result.statistic))\n",
    "\n",
    "print(\"p-value:\\t\" + str(result.pvalue))\n"
   ]
  },
  {
   "cell_type": "markdown",
   "id": "bc30920a",
   "metadata": {},
   "source": [
    "Because the p-value is greater than 0.05, we do not have sufficient evidence to reject the null hypothesis."
   ]
  },
  {
   "cell_type": "markdown",
   "id": "68306adb",
   "metadata": {},
   "source": [
    "***"
   ]
  },
  {
   "cell_type": "markdown",
   "id": "4893204f",
   "metadata": {},
   "source": [
    "### References"
   ]
  },
  {
   "cell_type": "markdown",
   "id": "5c5014e1",
   "metadata": {},
   "source": [
    "* SciPy stats documentation: https://docs.scipy.org/doc/scipy/reference/stats.html\n",
    "* Fatalities dataset source: https://vincentarelbundock.github.io/Rdatasets/csv/AER/Fatalities.csv\n",
    "* Guide to Statistical Hypothesis Tests in Python: https://www.kaggle.com/code/shashwatwork/guide-to-statistical-hypothesis-tests-in-python\n",
    "* t-test: Comparing Group Means: https://uc-r.github.io/t_test#paired"
   ]
  }
 ],
 "metadata": {
  "kernelspec": {
   "display_name": "Python 3 (ipykernel)",
   "language": "python",
   "name": "python3"
  },
  "language_info": {
   "codemirror_mode": {
    "name": "ipython",
    "version": 3
   },
   "file_extension": ".py",
   "mimetype": "text/x-python",
   "name": "python",
   "nbconvert_exporter": "python",
   "pygments_lexer": "ipython3",
   "version": "3.8.12"
  }
 },
 "nbformat": 4,
 "nbformat_minor": 5
}
