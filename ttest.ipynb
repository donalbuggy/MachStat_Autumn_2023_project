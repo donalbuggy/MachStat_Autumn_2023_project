{
 "cells": [
  {
   "cell_type": "markdown",
   "id": "fafb9534",
   "metadata": {},
   "source": [
    "## Paired samples t-test using SciPy stats"
   ]
  },
  {
   "cell_type": "code",
   "execution_count": 1,
   "id": "6afbef78",
   "metadata": {},
   "outputs": [],
   "source": [
    "import numpy as np\n",
    "import pandas as pd\n",
    "import scipy.stats as ss\n"
   ]
  },
  {
   "cell_type": "markdown",
   "id": "639fec37",
   "metadata": {},
   "source": [
    "The paired sample t-test is used to compare measures from a single data source at two points in time, often to test whether an operation on the data source has had a significant effect on the outputs. For example, testing a weight-loss intervention on patients, recording performance on a physical task both before and after the intervention. The test checks if there is a statistically significant difference between the means of the two sets of results.\n",
    "\n",
    "The paired t-test has four assumptions:\n",
    "* that the data is numerical or continuous\n",
    "* that the subjects from which measurements are taken are independent and do not affect each other's measurements\n",
    "* that the differences between the pairs are normally distributed\n",
    "* that there are no extreme values in the distribution of pair differences\n",
    "\n",
    "For this exercise, I will be using data from the US Traffic Fatalities dataset which can be found [here](https://vincentarelbundock.github.io/Rdatasets/csv/AER/Fatalities.csv), comparing fatality data from 48 US states for years 1987 and 1988.\n",
    "\n",
    "I will first assumption #3 by looking at the distribution of differences between the two years."
   ]
  },
  {
   "cell_type": "code",
   "execution_count": 4,
   "id": "b5e8040c",
   "metadata": {
    "scrolled": true
   },
   "outputs": [
    {
     "data": {
      "text/html": [
       "<div>\n",
       "<style scoped>\n",
       "    .dataframe tbody tr th:only-of-type {\n",
       "        vertical-align: middle;\n",
       "    }\n",
       "\n",
       "    .dataframe tbody tr th {\n",
       "        vertical-align: top;\n",
       "    }\n",
       "\n",
       "    .dataframe thead th {\n",
       "        text-align: right;\n",
       "    }\n",
       "</style>\n",
       "<table border=\"1\" class=\"dataframe\">\n",
       "  <thead>\n",
       "    <tr style=\"text-align: right;\">\n",
       "      <th></th>\n",
       "      <th>State</th>\n",
       "      <th>1987</th>\n",
       "      <th>1988</th>\n",
       "      <th>Difference</th>\n",
       "    </tr>\n",
       "  </thead>\n",
       "  <tbody>\n",
       "    <tr>\n",
       "      <th>0</th>\n",
       "      <td>Alabama</td>\n",
       "      <td>1110</td>\n",
       "      <td>1023</td>\n",
       "      <td>87</td>\n",
       "    </tr>\n",
       "    <tr>\n",
       "      <th>1</th>\n",
       "      <td>Arizona</td>\n",
       "      <td>937</td>\n",
       "      <td>944</td>\n",
       "      <td>-7</td>\n",
       "    </tr>\n",
       "    <tr>\n",
       "      <th>2</th>\n",
       "      <td>Arkansas</td>\n",
       "      <td>639</td>\n",
       "      <td>610</td>\n",
       "      <td>29</td>\n",
       "    </tr>\n",
       "    <tr>\n",
       "      <th>3</th>\n",
       "      <td>California</td>\n",
       "      <td>5504</td>\n",
       "      <td>5390</td>\n",
       "      <td>114</td>\n",
       "    </tr>\n",
       "    <tr>\n",
       "      <th>4</th>\n",
       "      <td>Colorado</td>\n",
       "      <td>591</td>\n",
       "      <td>497</td>\n",
       "      <td>94</td>\n",
       "    </tr>\n",
       "  </tbody>\n",
       "</table>\n",
       "</div>"
      ],
      "text/plain": [
       "        State  1987  1988  Difference\n",
       "0     Alabama  1110  1023          87\n",
       "1     Arizona   937   944          -7\n",
       "2    Arkansas   639   610          29\n",
       "3  California  5504  5390         114\n",
       "4    Colorado   591   497          94"
      ]
     },
     "execution_count": 4,
     "metadata": {},
     "output_type": "execute_result"
    }
   ],
   "source": [
    "df = pd.read_csv('us-road-fatalities.csv')\n",
    "\n",
    "df.head()"
   ]
  },
  {
   "cell_type": "code",
   "execution_count": 9,
   "id": "5863d77a",
   "metadata": {},
   "outputs": [
    {
     "data": {
      "text/plain": [
       "Ttest_relResult(statistic=-1.4657751972691198, pvalue=0.14936820290124436)"
      ]
     },
     "execution_count": 9,
     "metadata": {},
     "output_type": "execute_result"
    }
   ],
   "source": [
    "year1 = df['1987']\n",
    "year2 = df['1988']\n",
    "\n",
    "ss.ttest_rel(year1, year2)"
   ]
  },
  {
   "cell_type": "code",
   "execution_count": null,
   "id": "0671e2df",
   "metadata": {},
   "outputs": [],
   "source": []
  }
 ],
 "metadata": {
  "kernelspec": {
   "display_name": "Python 3 (ipykernel)",
   "language": "python",
   "name": "python3"
  },
  "language_info": {
   "codemirror_mode": {
    "name": "ipython",
    "version": 3
   },
   "file_extension": ".py",
   "mimetype": "text/x-python",
   "name": "python",
   "nbconvert_exporter": "python",
   "pygments_lexer": "ipython3",
   "version": "3.8.12"
  }
 },
 "nbformat": 4,
 "nbformat_minor": 5
}
